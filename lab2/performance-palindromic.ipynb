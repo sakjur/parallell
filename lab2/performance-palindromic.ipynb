{
 "cells": [
  {
   "cell_type": "code",
   "execution_count": 17,
   "metadata": {
    "collapsed": false
   },
   "outputs": [
    {
     "name": "stdout",
     "output_type": "stream",
     "text": [
      "wikipedia pages 1 worker:  5.90\n",
      "wikipedia pages 2 workers: 3.94\n",
      "wikipedia pages 3 workers: 2.82\n",
      "wikipedia pages 4 workers: 2.54\n",
      "wikipedia pages 6 workers: 2.02\n",
      "wikipedia pages 8 workers: 1.75\n"
     ]
    }
   ],
   "source": [
    "wp1 = 5.94292 + 5.89562 + 5.89176 + 5.89091 + 5.8883\n",
    "print(\"wikipedia pages 1 worker:  %.2f\" % (wp1/5))\n",
    "wp2 = 3.94263 + 3.95135 + 3.91414 + 3.93333 + 3.93992\n",
    "print(\"wikipedia pages 2 workers: %.2f\" % (wp2/5))\n",
    "wp3 = 2.84798 + 2.81837 + 2.81835 + 2.76158 + 2.84241\n",
    "print(\"wikipedia pages 3 workers: %.2f\" % (wp3/5))\n",
    "wp4 = 2.47633 + 2.5626 + 2.51578 + 2.56757 + 2.55783\n",
    "print(\"wikipedia pages 4 workers: %.2f\" % (wp4/5))\n",
    "wp6 = 1.99245 + 2.02689 +1.98131 + 2.06752 + 2.04844\n",
    "print(\"wikipedia pages 6 workers: %.2f\" % (wp6/5))\n",
    "wp8 = 1.75479 + 1.72888 + 1.76229 + 1.75646 + 1.76386\n",
    "print(\"wikipedia pages 8 workers: %.2f\" % (wp8/5))"
   ]
  },
  {
   "cell_type": "code",
   "execution_count": 27,
   "metadata": {
    "collapsed": false
   },
   "outputs": [
    {
     "name": "stdout",
     "output_type": "stream",
     "text": [
      "linux.words 1 worker:  0.42\n",
      "linux.words 2 workers: 0.27\n",
      "linux.words 3 workers: 0.21\n",
      "linux.words 4 workers: 0.18\n",
      "linux.words 6 workers: 0.15\n",
      "linux.words 8 workers: 0.13\n"
     ]
    }
   ],
   "source": [
    "lw1 = 0.417445 + 0.416304 + 0.417196 + 0.41593 + 0.418162\n",
    "print(\"linux.words 1 worker:  %.2f\" % (lw1/5))\n",
    "lw2 = 0.270685 + 0.262586 + 0.270279 + 0.269662 + 0.269697\n",
    "print(\"linux.words 2 workers: %.2f\" % (lw2/5))\n",
    "lw3 = 0.210287 + 0.211597 + 0.202043 + 0.202051 + 0.211597\n",
    "print(\"linux.words 3 workers: %.2f\" % (lw3/5))\n",
    "lw4 = 0.182943 + 0.183886 + 0.184375 + 0.183633 + 0.183068\n",
    "print(\"linux.words 4 workers: %.2f\" % (lw4/5))\n",
    "lw6 = 0.150371 + 0.15054 + 0.150682 + 0.149717 + 0.148549\n",
    "print(\"linux.words 6 workers: %.2f\" % (lw6/5))\n",
    "lw8 = 0.134611 + 0.133569 + 0.132427 + 0.132994 + 0.132157\n",
    "print(\"linux.words 8 workers: %.2f\" % (lw8/5))"
   ]
  },
  {
   "cell_type": "code",
   "execution_count": 38,
   "metadata": {
    "collapsed": false
   },
   "outputs": [
    {
     "name": "stdout",
     "output_type": "stream",
     "text": [
      "words 1 worker:  0.012\n",
      "words 2 workers: 0.0092\n",
      "words 3 workers: 0.0074\n",
      "words 4 workers: 0.0079\n",
      "words 6 workers: 0.0078\n",
      "words 8 workers: 0.0100\n"
     ]
    }
   ],
   "source": [
    "w1 = 0.011987 + 0.011936 + 0.011971 + 0.011858 + 0.011994\n",
    "print(\"words 1 worker:  %.3f\" % (w1/5))\n",
    "w2 = 0.009077 + 0.009097 + 0.009228 + 0.009252 + 0.00917\n",
    "print(\"words 2 workers: %.4f\" % (w2/5))\n",
    "w3 = 0.007248 + 0.007553 + 0.007255 + 0.007584 + 0.007561\n",
    "print(\"words 3 workers: %.4f\" % (w3/5))\n",
    "w4 = 0.00747 + 0.007778 + 0.007195 + 0.008506 + 0.008675\n",
    "print(\"words 4 workers: %.4f\" % (w4/5))\n",
    "w6 = 0.007482 + 0.006904 + 0.008872 + 0.006915 + 0.008898\n",
    "print(\"words 6 workers: %.4f\" % (w6/5))\n",
    "w8 = 0.009062 + 0.010697 + 0.010394 + 0.011573 + 0.008115\n",
    "print(\"words 8 workers: %.4f\" % (w8/5))\n"
   ]
  },
  {
   "cell_type": "code",
   "execution_count": null,
   "metadata": {
    "collapsed": true
   },
   "outputs": [],
   "source": []
  }
 ],
 "metadata": {
  "kernelspec": {
   "display_name": "Python 3",
   "language": "python",
   "name": "python3"
  },
  "language_info": {
   "codemirror_mode": {
    "name": "ipython",
    "version": 3
   },
   "file_extension": ".py",
   "mimetype": "text/x-python",
   "name": "python",
   "nbconvert_exporter": "python",
   "pygments_lexer": "ipython3",
   "version": "3.4.3"
  }
 },
 "nbformat": 4,
 "nbformat_minor": 0
}
